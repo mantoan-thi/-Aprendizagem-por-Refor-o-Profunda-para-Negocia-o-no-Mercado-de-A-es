{
  "nbformat": 4,
  "nbformat_minor": 0,
  "metadata": {
    "colab": {
      "name": "Aprendizagem por Reforço Profunda para Negociação no Mercado de Ações.ipynb",
      "provenance": [],
      "authorship_tag": "ABX9TyPQ9zDnqaOF7ysffhOktWm9",
      "include_colab_link": true
    },
    "kernelspec": {
      "name": "python3",
      "display_name": "Python 3"
    },
    "language_info": {
      "name": "python"
    },
    "accelerator": "GPU"
  },
  "cells": [
    {
      "cell_type": "markdown",
      "metadata": {
        "id": "view-in-github",
        "colab_type": "text"
      },
      "source": [
        "<a href=\"https://colab.research.google.com/github/mantoan-thi/-Aprendizagem-por-Refor-o-Profunda-para-Negocia-o-no-Mercado-de-A-es/blob/main/Aprendizagem_por_Refor%C3%A7o_Profunda_para_Negocia%C3%A7%C3%A3o_no_Mercado_de_A%C3%A7%C3%B5es.ipynb\" target=\"_parent\"><img src=\"https://colab.research.google.com/assets/colab-badge.svg\" alt=\"Open In Colab\"/></a>"
      ]
    },
    {
      "cell_type": "markdown",
      "metadata": {
        "id": "i9_1lc5ZXLXf"
      },
      "source": [
        "# Etapa 1: Instalações da bibliotecas"
      ]
    },
    {
      "cell_type": "code",
      "metadata": {
        "id": "ig48cD9UUwLQ"
      },
      "source": [
        "!pip install tensorflow-gpu==2.0.0-alpha0"
      ],
      "execution_count": null,
      "outputs": []
    },
    {
      "cell_type": "code",
      "metadata": {
        "id": "MvfRLluLVX2p"
      },
      "source": [
        "!pip install pandas-datareader"
      ],
      "execution_count": null,
      "outputs": []
    },
    {
      "cell_type": "code",
      "metadata": {
        "id": "seQjh-3vdHbO"
      },
      "source": [
        "!pip uninstall -y tensorflow\n",
        "#!pip install tensorflow"
      ],
      "execution_count": null,
      "outputs": []
    },
    {
      "cell_type": "code",
      "metadata": {
        "colab": {
          "base_uri": "https://localhost:8080/",
          "height": 836
        },
        "id": "F7wZ88CmniiB",
        "outputId": "7a1a8b4a-ffcc-4250-b9b7-553873845363"
      },
      "source": [
        "!pip install --upgrade pandas\n",
        "!pip install --upgrade pandas-datareader"
      ],
      "execution_count": 33,
      "outputs": [
        {
          "output_type": "stream",
          "name": "stdout",
          "text": [
            "Requirement already satisfied: pandas in /usr/local/lib/python3.7/dist-packages (1.1.5)\n",
            "Collecting pandas\n",
            "  Downloading pandas-1.3.2-cp37-cp37m-manylinux_2_17_x86_64.manylinux2014_x86_64.whl (11.3 MB)\n",
            "\u001b[K     |████████████████████████████████| 11.3 MB 5.2 MB/s \n",
            "\u001b[?25hRequirement already satisfied: python-dateutil>=2.7.3 in /usr/local/lib/python3.7/dist-packages (from pandas) (2.8.2)\n",
            "Requirement already satisfied: pytz>=2017.3 in /usr/local/lib/python3.7/dist-packages (from pandas) (2018.9)\n",
            "Requirement already satisfied: numpy>=1.17.3 in /usr/local/lib/python3.7/dist-packages (from pandas) (1.19.5)\n",
            "Requirement already satisfied: six>=1.5 in /usr/local/lib/python3.7/dist-packages (from python-dateutil>=2.7.3->pandas) (1.15.0)\n",
            "Installing collected packages: pandas\n",
            "  Attempting uninstall: pandas\n",
            "    Found existing installation: pandas 1.1.5\n",
            "    Uninstalling pandas-1.1.5:\n",
            "      Successfully uninstalled pandas-1.1.5\n",
            "\u001b[31mERROR: pip's dependency resolver does not currently take into account all the packages that are installed. This behaviour is the source of the following dependency conflicts.\n",
            "google-colab 1.0.0 requires pandas~=1.1.0; python_version >= \"3.0\", but you have pandas 1.3.2 which is incompatible.\u001b[0m\n",
            "Successfully installed pandas-1.3.2\n"
          ]
        },
        {
          "output_type": "display_data",
          "data": {
            "application/vnd.colab-display-data+json": {
              "pip_warning": {
                "packages": [
                  "pandas"
                ]
              }
            }
          },
          "metadata": {}
        },
        {
          "output_type": "stream",
          "name": "stdout",
          "text": [
            "Requirement already satisfied: pandas-datareader in /usr/local/lib/python3.7/dist-packages (0.9.0)\n",
            "Collecting pandas-datareader\n",
            "  Downloading pandas_datareader-0.10.0-py3-none-any.whl (109 kB)\n",
            "\u001b[K     |████████████████████████████████| 109 kB 5.4 MB/s \n",
            "\u001b[?25hRequirement already satisfied: requests>=2.19.0 in /usr/local/lib/python3.7/dist-packages (from pandas-datareader) (2.23.0)\n",
            "Requirement already satisfied: pandas>=0.23 in /usr/local/lib/python3.7/dist-packages (from pandas-datareader) (1.3.2)\n",
            "Requirement already satisfied: lxml in /usr/local/lib/python3.7/dist-packages (from pandas-datareader) (4.2.6)\n",
            "Requirement already satisfied: python-dateutil>=2.7.3 in /usr/local/lib/python3.7/dist-packages (from pandas>=0.23->pandas-datareader) (2.8.2)\n",
            "Requirement already satisfied: pytz>=2017.3 in /usr/local/lib/python3.7/dist-packages (from pandas>=0.23->pandas-datareader) (2018.9)\n",
            "Requirement already satisfied: numpy>=1.17.3 in /usr/local/lib/python3.7/dist-packages (from pandas>=0.23->pandas-datareader) (1.19.5)\n",
            "Requirement already satisfied: six>=1.5 in /usr/local/lib/python3.7/dist-packages (from python-dateutil>=2.7.3->pandas>=0.23->pandas-datareader) (1.15.0)\n",
            "Requirement already satisfied: chardet<4,>=3.0.2 in /usr/local/lib/python3.7/dist-packages (from requests>=2.19.0->pandas-datareader) (3.0.4)\n",
            "Requirement already satisfied: idna<3,>=2.5 in /usr/local/lib/python3.7/dist-packages (from requests>=2.19.0->pandas-datareader) (2.10)\n",
            "Requirement already satisfied: urllib3!=1.25.0,!=1.25.1,<1.26,>=1.21.1 in /usr/local/lib/python3.7/dist-packages (from requests>=2.19.0->pandas-datareader) (1.24.3)\n",
            "Requirement already satisfied: certifi>=2017.4.17 in /usr/local/lib/python3.7/dist-packages (from requests>=2.19.0->pandas-datareader) (2021.5.30)\n",
            "Installing collected packages: pandas-datareader\n",
            "  Attempting uninstall: pandas-datareader\n",
            "    Found existing installation: pandas-datareader 0.9.0\n",
            "    Uninstalling pandas-datareader-0.9.0:\n",
            "      Successfully uninstalled pandas-datareader-0.9.0\n",
            "Successfully installed pandas-datareader-0.10.0\n"
          ]
        },
        {
          "output_type": "display_data",
          "data": {
            "application/vnd.colab-display-data+json": {
              "pip_warning": {
                "packages": [
                  "pandas_datareader"
                ]
              }
            }
          },
          "metadata": {}
        }
      ]
    },
    {
      "cell_type": "markdown",
      "metadata": {
        "id": "VdXlmSsWa2nP"
      },
      "source": [
        "# Etapa 2: importação das bibliotecas"
      ]
    },
    {
      "cell_type": "code",
      "metadata": {
        "id": "za5Xp-1PbBl3"
      },
      "source": [
        "import math                              # Para construção da função sigmoid\n",
        "import random                            # Para números aleatórios  \n",
        "import numpy as np\n",
        "import pandas as pd\n",
        "import tensorflow as tf                  \n",
        "import matplotlib.pyplot as plt\n",
        "import pandas_datareader as data_reader   \n",
        "from tqdm import tqdm_notebook,tqdm       # Para barra de progresso mais intuitivas\n",
        "from collections import deque             # Para memória de re-play"
      ],
      "execution_count": 1,
      "outputs": []
    },
    {
      "cell_type": "code",
      "metadata": {
        "colab": {
          "base_uri": "https://localhost:8080/",
          "height": 163
        },
        "id": "60jT2uu6cb_s",
        "outputId": "c5ed3bd5-5f6d-4a86-c34c-a15b4c509c36"
      },
      "source": [
        "tf.__version__"
      ],
      "execution_count": 2,
      "outputs": [
        {
          "output_type": "error",
          "ename": "AttributeError",
          "evalue": "ignored",
          "traceback": [
            "\u001b[0;31m---------------------------------------------------------------------------\u001b[0m",
            "\u001b[0;31mAttributeError\u001b[0m                            Traceback (most recent call last)",
            "\u001b[0;32m<ipython-input-2-65996cac02ec>\u001b[0m in \u001b[0;36m<module>\u001b[0;34m()\u001b[0m\n\u001b[0;32m----> 1\u001b[0;31m \u001b[0mtf\u001b[0m\u001b[0;34m.\u001b[0m\u001b[0m__version__\u001b[0m\u001b[0;34m\u001b[0m\u001b[0;34m\u001b[0m\u001b[0m\n\u001b[0m",
            "\u001b[0;31mAttributeError\u001b[0m: module 'tensorflow' has no attribute '__version__'"
          ]
        }
      ]
    },
    {
      "cell_type": "markdown",
      "metadata": {
        "id": "p-azhuTpbKq1"
      },
      "source": [
        "# Etapa 3: Construção da IA para anegocição das ações"
      ]
    },
    {
      "cell_type": "code",
      "metadata": {
        "id": "mKEd4zX0f4xi"
      },
      "source": [
        "class AI_Trader():\n",
        "  def __init__(self,state_size,action_space = 3,model_name = \"AITrader\"):\n",
        "    self.state_size = state_size       # São as informações que estão vindo do ambiente, camada de entrada da rede neural\n",
        "    self.action_space = action_space   # São as ações: comprar, vender ou não fazer nada. \n",
        "    self.memory = deque(maxlen=2000)   # Experiência de re-play\n",
        "    self.model_name = model_name\n",
        "\n",
        "    self.gamma = 0.95                  #\n",
        "    self.epsilon = 1.0                 # 100% indicar que todas as ações são randomicas, sem utilizar a rede neural\n",
        "    self.epsilon_final = 0.01          # \n",
        "    self.epsilon_decay = 0.995         # Decrementar os valor de espilon\n",
        "\n",
        "    def model_builder(self):\n",
        "      model = tf.keras.models.sequential()\n",
        "      model.add(tf.keras.layers.Dense(units=32,activation = \"relu\",input_dim = self.state_size))\n",
        "      model.add(tf.keras.layers.Dense(units=64,activation = \"relu\"))\n",
        "      model.add(tf.keras.layers.Dense(units=128,activation = \"relu\"))\n",
        "      model.add(tf.keras.layers.Dense(units = self.action_space,activation = 'linear'))\n",
        "      model.compile(loss='mse',optimizer = tf.keras.optimizer.Adam(lr=0.001))\n",
        "      return model\n",
        "\n",
        "    def trade(self,state):\n",
        "      if random.random() <= self.epsilon:\n",
        "        return random.randrange(self.action_space)\n",
        "      actions = self.model.predict(state)\n",
        "      return np.argmax(actions[0])\n",
        "  \n",
        "    def batch_train(self,batch_size):\n",
        "      batch = []\n",
        "      for i in range(en(self.memory)-batch_size+1,len(self.memory)):\n",
        "        batch.append(self.memory)\n",
        "      for state, action, reward, next_state, done in batch:\n",
        "        if not done:\n",
        "          reward = reward +self.gamma * np.amax(self.model.predict(next_state)[0])\n",
        "        \n",
        "        target = self.model.predict(state)\n",
        "        target[0][action] = reward\n",
        "\n",
        "        self.model.fit(state,target, epochs=1, verbose=0)\n",
        "      if self.epsilon > self.epsilon_final:\n",
        "        self.epsilon*=self.epsilon_decay\n"
      ],
      "execution_count": 3,
      "outputs": []
    },
    {
      "cell_type": "markdown",
      "metadata": {
        "id": "OBVb98rZbTGw"
      },
      "source": [
        "# Etapa 4: Pré-processamento da base de dados"
      ]
    },
    {
      "cell_type": "markdown",
      "metadata": {
        "id": "_du_9b8OlLaL"
      },
      "source": [
        "# Definição de funções auxiliares"
      ]
    },
    {
      "cell_type": "markdown",
      "metadata": {
        "id": "ltV-t29fmpLG"
      },
      "source": [
        "Sigmoid"
      ]
    },
    {
      "cell_type": "code",
      "metadata": {
        "id": "cKoG_y-kmspw"
      },
      "source": [
        "def sigmoid(x):\n",
        "  return 1 /(1 + math.exp(-x))"
      ],
      "execution_count": 4,
      "outputs": []
    },
    {
      "cell_type": "markdown",
      "metadata": {
        "id": "Sm5yXMspmxwE"
      },
      "source": [
        "Formatação de preços"
      ]
    },
    {
      "cell_type": "code",
      "metadata": {
        "id": "olgXNz3Ym1l1"
      },
      "source": [
        "def stocks_prices_format(n): # verifica se vc esta tendo ou não lucro\n",
        "  if n < 0:\n",
        "    return \"- $ {0:2f}\".format(abs(n))\n",
        "  else:\n",
        "    return \"$ {0:2f}\".format(abs(n))"
      ],
      "execution_count": 6,
      "outputs": []
    },
    {
      "cell_type": "markdown",
      "metadata": {
        "id": "F6RKbzC6m-gx"
      },
      "source": [
        "Carregador de base de dados"
      ]
    },
    {
      "cell_type": "code",
      "metadata": {
        "id": "TMn7AxZVnDyV"
      },
      "source": [
        "# Empresas: SABESP,    ELETROBRÁS,  ENERGISA, B3\n",
        "tickers = {'SBSP3.SA', 'ENGI3.SA', 'ELET3.SA','^BVSP'}\n",
        "stock_name = list(tickers)[0]"
      ],
      "execution_count": 22,
      "outputs": []
    },
    {
      "cell_type": "code",
      "metadata": {
        "id": "MpdsBuvznve9"
      },
      "source": [
        "def dataset_loader(stock_name):\n",
        "  dataset = data_reader.DataReader(stock_name,data_source=\"yahoo\")\n",
        "  star_date = str(dataset.index[0]).split()[0]\n",
        "  end_date = str(dataset.index[-1]).split()[0]\n",
        "  close = dataset['Close']\n",
        "  return close"
      ],
      "execution_count": 27,
      "outputs": []
    },
    {
      "cell_type": "markdown",
      "metadata": {
        "id": "5fFIw143qrOp"
      },
      "source": [
        "Criador de estados"
      ]
    },
    {
      "cell_type": "code",
      "metadata": {
        "id": "xbfkqAZ8qx90"
      },
      "source": [
        "def state_creator(data,timestep,window_size):\n",
        "  starting_id = timestep - window_size+1\n",
        "  if starting_id >=0:\n",
        "    windowed_data = data[starting_id:timestep+1]\n",
        "  else:\n",
        "    windowed_data = -starting_id * [data[0]+list(data[0:timestep+1])]\n",
        "  state = []\n",
        "  for i in range(window_size-1):\n",
        "    state.append(sigmoid(windowed_data[i+1]-windowed_data[i]))\n",
        "  return np.array([state])"
      ],
      "execution_count": 33,
      "outputs": []
    },
    {
      "cell_type": "markdown",
      "metadata": {
        "id": "_L8B2hXjssKo"
      },
      "source": [
        "Carregando a base de dados"
      ]
    },
    {
      "cell_type": "code",
      "metadata": {
        "id": "WgS1l3y4r6b0"
      },
      "source": [
        ""
      ],
      "execution_count": null,
      "outputs": []
    }
  ]
}