{
  "nbformat": 4,
  "nbformat_minor": 0,
  "metadata": {
    "colab": {
      "name": "Aprendizagem por Reforço Profunda para Negociação no Mercado de Ações.ipynb",
      "provenance": [],
      "authorship_tag": "ABX9TyO6OsdWLbOfxjc9JVaRAPGe",
      "include_colab_link": true
    },
    "kernelspec": {
      "name": "python3",
      "display_name": "Python 3"
    },
    "language_info": {
      "name": "python"
    }
  },
  "cells": [
    {
      "cell_type": "markdown",
      "metadata": {
        "id": "view-in-github",
        "colab_type": "text"
      },
      "source": [
        "<a href=\"https://colab.research.google.com/github/mantoan-thi/-Aprendizagem-por-Refor-o-Profunda-para-Negocia-o-no-Mercado-de-A-es/blob/main/Aprendizagem_por_Refor%C3%A7o_Profunda_para_Negocia%C3%A7%C3%A3o_no_Mercado_de_A%C3%A7%C3%B5es.ipynb\" target=\"_parent\"><img src=\"https://colab.research.google.com/assets/colab-badge.svg\" alt=\"Open In Colab\"/></a>"
      ]
    },
    {
      "cell_type": "markdown",
      "metadata": {
        "id": "i9_1lc5ZXLXf"
      },
      "source": [
        "# Etapa 1: Instalações da bibliotecas"
      ]
    },
    {
      "cell_type": "code",
      "metadata": {
        "id": "ig48cD9UUwLQ"
      },
      "source": [
        "#!pip install tensorflow-gpu==2.0.0-alpha0\n",
        "!pip install tensorflow==2.0.0-beta1\n",
        "!pip install tensorflow==2.0.0"
      ],
      "execution_count": null,
      "outputs": []
    },
    {
      "cell_type": "code",
      "metadata": {
        "id": "MvfRLluLVX2p"
      },
      "source": [
        "!pip install pandas-datareader"
      ],
      "execution_count": null,
      "outputs": []
    },
    {
      "cell_type": "code",
      "metadata": {
        "id": "F7wZ88CmniiB"
      },
      "source": [
        "!pip install --upgrade pandas\n",
        "!pip install --upgrade pandas-datareader"
      ],
      "execution_count": null,
      "outputs": []
    },
    {
      "cell_type": "markdown",
      "metadata": {
        "id": "VdXlmSsWa2nP"
      },
      "source": [
        "# Etapa 2: importação das bibliotecas"
      ]
    },
    {
      "cell_type": "code",
      "metadata": {
        "id": "za5Xp-1PbBl3"
      },
      "source": [
        "import math                              # Para construção da função sigmoid\n",
        "import random                            # Para números aleatórios  \n",
        "import numpy as np\n",
        "import pandas as pd\n",
        "import tensorflow as tf                  \n",
        "import matplotlib.pyplot as plt\n",
        "import pandas_datareader as data_reader   \n",
        "from tqdm import tqdm_notebook,tqdm       # Para barra de progresso mais intuitivas\n",
        "from collections import deque             # Para memória de re-play"
      ],
      "execution_count": 4,
      "outputs": []
    },
    {
      "cell_type": "code",
      "metadata": {
        "colab": {
          "base_uri": "https://localhost:8080/"
        },
        "id": "60jT2uu6cb_s",
        "outputId": "4b81f834-96d8-46b0-d3b2-8fdb85df37bf"
      },
      "source": [
        "print(tf.__version__)"
      ],
      "execution_count": 5,
      "outputs": [
        {
          "output_type": "stream",
          "name": "stdout",
          "text": [
            "2.0.0\n"
          ]
        }
      ]
    },
    {
      "cell_type": "markdown",
      "metadata": {
        "id": "p-azhuTpbKq1"
      },
      "source": [
        "# Etapa 3: Construção da IA para anegocição das ações"
      ]
    },
    {
      "cell_type": "code",
      "metadata": {
        "id": "mKEd4zX0f4xi"
      },
      "source": [
        "class AI_Trader():\n",
        "  def __init__(self,state_size,action_space = 3,model_name = \"AITrader\"):\n",
        "    self.state_size = state_size       # São as informações que estão vindo do ambiente, camada de entrada da rede neural\n",
        "    self.action_space = action_space   # São as ações: comprar, vender ou não fazer nada. \n",
        "    self.memory = deque(maxlen=2000)   # Experiência de re-play\n",
        "    self.model_name = model_name\n",
        "\n",
        "    self.gamma = 0.95                  #\n",
        "    self.epsilon = 1.0                 # 100% indicar que todas as ações são randomicas, sem utilizar a rede neural\n",
        "    self.epsilon_final = 0.01          # \n",
        "    self.epsilon_decay = 0.995         # Decrementar os valor de espilon\n",
        "    self.model = self.model_builder()\n",
        "\n",
        "  def model_builder(self):\n",
        "    model = tf.keras.models.Sequential()\n",
        "    model.add(tf.keras.layers.Dense(units=32,activation = \"relu\",input_dim = self.state_size))\n",
        "    model.add(tf.keras.layers.Dense(units=64,activation = \"relu\"))\n",
        "    model.add(tf.keras.layers.Dense(units=128,activation = \"relu\"))\n",
        "    model.add(tf.keras.layers.Dense(units = self.action_space,activation = 'linear'))\n",
        "    model.compile(loss='mse',optimizer = tf.keras.optimizers.Adam(lr=0.001))\n",
        "    return model\n",
        "\n",
        "  def trade(self,state):\n",
        "    if random.random() <= self.epsilon:\n",
        "      return random.randrange(self.action_space)\n",
        "    actions = self.model.predict(state)\n",
        "    return np.argmax(actions[0])\n",
        "  \n",
        "  def batch_train(self,batch_size):\n",
        "    batch = []\n",
        "    for i in range(len(self.memory)-batch_size + 1,len(self.memory)):\n",
        "      batch.append(self.memory[i])\n",
        "    for state, action, reward, next_state, done in batch:\n",
        "      if not done:\n",
        "        reward = reward + self.gamma * np.amax(self.model.predict(next_state)[0])\n",
        "        \n",
        "      target = self.model.predict(state)\n",
        "      target[0][action] = reward\n",
        "\n",
        "      self.model.fit(state,target, epochs=1, verbose=0)\n",
        "    if self.epsilon > self.epsilon_final:\n",
        "      self.epsilon*=self.epsilon_decay\n"
      ],
      "execution_count": 6,
      "outputs": []
    },
    {
      "cell_type": "markdown",
      "metadata": {
        "id": "OBVb98rZbTGw"
      },
      "source": [
        "# Etapa 4: Pré-processamento da base de dados"
      ]
    },
    {
      "cell_type": "markdown",
      "metadata": {
        "id": "e3YouBbtF8SG"
      },
      "source": [
        "Definição de funções auxiliares"
      ]
    },
    {
      "cell_type": "markdown",
      "metadata": {
        "id": "ltV-t29fmpLG"
      },
      "source": [
        "Sigmoid"
      ]
    },
    {
      "cell_type": "code",
      "metadata": {
        "id": "cKoG_y-kmspw"
      },
      "source": [
        "def sigmoid(x):\n",
        "  return 1 /(1 + math.exp(-x))"
      ],
      "execution_count": 7,
      "outputs": []
    },
    {
      "cell_type": "markdown",
      "metadata": {
        "id": "Sm5yXMspmxwE"
      },
      "source": [
        "Formatação de preços"
      ]
    },
    {
      "cell_type": "code",
      "metadata": {
        "id": "olgXNz3Ym1l1"
      },
      "source": [
        "def stocks_prices_format(n): # verifica se vc esta tendo ou não lucro\n",
        "  if n < 0:\n",
        "    return \"- $ {0:2f}\".format(abs(n))\n",
        "  else:\n",
        "    return \"$ {0:2f}\".format(abs(n))"
      ],
      "execution_count": 8,
      "outputs": []
    },
    {
      "cell_type": "markdown",
      "metadata": {
        "id": "F6RKbzC6m-gx"
      },
      "source": [
        "Carregador de base de dados"
      ]
    },
    {
      "cell_type": "code",
      "metadata": {
        "id": "TMn7AxZVnDyV"
      },
      "source": [
        "# Empresas: SABESP,    ELETROBRÁS,  ENERGISA, B3\n",
        "tickers = {'AAPL','SBSP3.SA', 'ENGI3.SA', 'ELET3.SA','^BVSP'}\n",
        "stock_name = list(tickers)[0]"
      ],
      "execution_count": 9,
      "outputs": []
    },
    {
      "cell_type": "code",
      "metadata": {
        "id": "MpdsBuvznve9"
      },
      "source": [
        "def dataset_loader(stock_name):\n",
        "  dataset = data_reader.DataReader(stock_name,data_source=\"yahoo\")\n",
        "  star_date = str(dataset.index[0]).split()[0]\n",
        "  end_date = str(dataset.index[-1]).split()[0]\n",
        "  close = dataset['Close']\n",
        "  return close"
      ],
      "execution_count": 10,
      "outputs": []
    },
    {
      "cell_type": "markdown",
      "metadata": {
        "id": "5fFIw143qrOp"
      },
      "source": [
        "Criador de estados"
      ]
    },
    {
      "cell_type": "code",
      "metadata": {
        "id": "xbfkqAZ8qx90"
      },
      "source": [
        "def state_creator(data,timestep,window_size):\n",
        "  starting_id = timestep - window_size + 1\n",
        "  if starting_id >= 0:\n",
        "    windowed_data = data[starting_id:timestep + 1]\n",
        "  else:\n",
        "    windowed_data = -starting_id * [data[0]] + list(data[0:timestep + 1])\n",
        "  state = []\n",
        "  for i in range(window_size - 1):\n",
        "    state.append(sigmoid(windowed_data[i + 1] - windowed_data[i]))\n",
        "  return np.array([state])"
      ],
      "execution_count": 11,
      "outputs": []
    },
    {
      "cell_type": "markdown",
      "metadata": {
        "id": "_L8B2hXjssKo"
      },
      "source": [
        "Carregando a base de dados"
      ]
    },
    {
      "cell_type": "code",
      "metadata": {
        "id": "WgS1l3y4r6b0"
      },
      "source": [
        "stock_name = list(tickers)[0]\n",
        "data = dataset_loader(stock_name)"
      ],
      "execution_count": 12,
      "outputs": []
    },
    {
      "cell_type": "markdown",
      "metadata": {
        "id": "J9atigHdF-iG"
      },
      "source": [
        "# Etapa 5: Treinando a IA"
      ]
    },
    {
      "cell_type": "markdown",
      "metadata": {
        "id": "xZdyRp2GGHQh"
      },
      "source": [
        "Configuração dos hyper parâmentros"
      ]
    },
    {
      "cell_type": "code",
      "metadata": {
        "id": "rH5vuIy7GUK8"
      },
      "source": [
        "window_size = 5\n",
        "episodes = 1000\n",
        "batch_size = 32\n",
        "data_samples = len(data)-1"
      ],
      "execution_count": 13,
      "outputs": []
    },
    {
      "cell_type": "markdown",
      "metadata": {
        "id": "v1PnvBSwGSoh"
      },
      "source": [
        "Definição do modelo"
      ]
    },
    {
      "cell_type": "code",
      "metadata": {
        "id": "lgh2gHNuGoQN"
      },
      "source": [
        "trader = AI_Trader(window_size)"
      ],
      "execution_count": 14,
      "outputs": []
    },
    {
      "cell_type": "code",
      "metadata": {
        "colab": {
          "base_uri": "https://localhost:8080/"
        },
        "id": "cuL-JIylMG41",
        "outputId": "6e9d4894-8587-442b-8174-2c913fb27de5"
      },
      "source": [
        "trader.model.summary()"
      ],
      "execution_count": 15,
      "outputs": [
        {
          "output_type": "stream",
          "name": "stdout",
          "text": [
            "Model: \"sequential\"\n",
            "_________________________________________________________________\n",
            "Layer (type)                 Output Shape              Param #   \n",
            "=================================================================\n",
            "dense (Dense)                (None, 32)                352       \n",
            "_________________________________________________________________\n",
            "dense_1 (Dense)              (None, 64)                2112      \n",
            "_________________________________________________________________\n",
            "dense_2 (Dense)              (None, 128)               8320      \n",
            "_________________________________________________________________\n",
            "dense_3 (Dense)              (None, 3)                 387       \n",
            "=================================================================\n",
            "Total params: 11,171\n",
            "Trainable params: 11,171\n",
            "Non-trainable params: 0\n",
            "_________________________________________________________________\n"
          ]
        }
      ]
    },
    {
      "cell_type": "markdown",
      "metadata": {
        "id": "gcA0s59IGPNn"
      },
      "source": [
        "Loop de treinamento"
      ]
    },
    {
      "cell_type": "code",
      "metadata": {
        "colab": {
          "base_uri": "https://localhost:8080/"
        },
        "id": "RAnjS1AGGFyE",
        "outputId": "c8eac079-6136-4bcd-dd29-4effe0c1e442"
      },
      "source": [
        "for episode in range(1,episodes + 1):\n",
        "  print(\"Episode: {}/{}\".format(episode,episodes))\n",
        "  state = state_creator(data,0,window_size+1)\n",
        "  total_profit = 0\n",
        "  trader.inventory= []\n",
        "  for t in tqdm(range(data_samples)):\n",
        "    action = trader.trade(state)\n",
        "    next_state = state_creator(data,t + 1,window_size + 1)\n",
        "    reward = 0\n",
        "\n",
        "    if action ==1:# Comprando uma ação\n",
        "      trader.inventory.append(data[t])\n",
        "      print(\"AI Trader bought: \",stocks_prices_format(data[t]))\n",
        "    elif action ==2 and len(trader.inventory) > 0: # Vendendo uma ação\n",
        "      buy_price = trader.inventory.pop(0)\n",
        "    \n",
        "      reward = max(data[t]-buy_price,0)\n",
        "      total_profit+= data[t]-buy_price\n",
        "      print(\"AI Trader soldd: \",stocks_prices_format(data[t]),\" Profit: \",stocks_prices_format(data[t]-buy_price))\n",
        "    if t == data_samples -1:\n",
        "      done = True\n",
        "    else:\n",
        "      done = False\n",
        "    trader.memory.append((state,action,reward,next_state,done))\n",
        "    state = next_state\n",
        "\n",
        "    if done:\n",
        "      print(\"##############################\")\n",
        "      print(\"Total profit: {}\",format(total_profit))\n",
        "      print(\"##############################\")\n",
        "\n",
        "    if len(trader.memory) > batch_size:\n",
        "      trader.batch_train(batch_size)\n",
        "  if episode % 10 == 0:\n",
        "    trader.model.save(\"ai_trade_{}.h5\".format(episode))\n",
        "\n"
      ],
      "execution_count": null,
      "outputs": [
        {
          "output_type": "stream",
          "name": "stdout",
          "text": [
            "Episode: 1/1000\n"
          ]
        },
        {
          "output_type": "stream",
          "name": "stderr",
          "text": [
            "\r  0%|          | 0/1239 [00:00<?, ?it/s]"
          ]
        },
        {
          "output_type": "stream",
          "name": "stdout",
          "text": [
            "AI Trader bought:  $ 30.510000\n",
            "AI Trader bought:  $ 30.190001\n",
            "AI Trader bought:  $ 30.799999\n",
            "AI Trader soldd:  $ 30.500000  Profit:  - $ 0.010000\n",
            "AI Trader bought:  $ 30.900000\n",
            "AI Trader bought:  $ 30.750000\n",
            "AI Trader soldd:  $ 30.650000  Profit:  $ 0.459999\n",
            "AI Trader bought:  $ 30.889999\n",
            "AI Trader soldd:  $ 31.049999  Profit:  $ 0.250000\n",
            "AI Trader bought:  $ 30.500000\n",
            "AI Trader bought:  $ 31.480000\n",
            "AI Trader soldd:  $ 31.639999  Profit:  $ 0.740000\n",
            "AI Trader soldd:  $ 31.990000  Profit:  $ 1.240000\n",
            "AI Trader soldd:  $ 32.110001  Profit:  $ 1.220001\n",
            "AI Trader soldd:  $ 31.900000  Profit:  $ 1.400000\n",
            "AI Trader soldd:  $ 32.290001  Profit:  $ 0.810001\n"
          ]
        },
        {
          "output_type": "stream",
          "name": "stderr",
          "text": [
            "  3%|▎         | 35/1239 [00:12<10:18,  1.95it/s]"
          ]
        },
        {
          "output_type": "stream",
          "name": "stdout",
          "text": [
            "AI Trader bought:  $ 32.750000\n"
          ]
        },
        {
          "output_type": "stream",
          "name": "stderr",
          "text": [
            "\r  3%|▎         | 36/1239 [00:16<15:22,  1.30it/s]"
          ]
        },
        {
          "output_type": "stream",
          "name": "stdout",
          "text": [
            "AI Trader bought:  $ 32.230000\n"
          ]
        },
        {
          "output_type": "stream",
          "name": "stderr",
          "text": [
            "\r  3%|▎         | 37/1239 [00:20<21:31,  1.07s/it]"
          ]
        },
        {
          "output_type": "stream",
          "name": "stdout",
          "text": [
            "AI Trader soldd:  $ 32.340000  Profit:  - $ 0.410000\n"
          ]
        },
        {
          "output_type": "stream",
          "name": "stderr",
          "text": [
            "\r  3%|▎         | 38/1239 [00:24<28:42,  1.43s/it]"
          ]
        },
        {
          "output_type": "stream",
          "name": "stdout",
          "text": [
            "AI Trader bought:  $ 33.240002\n"
          ]
        },
        {
          "output_type": "stream",
          "name": "stderr",
          "text": [
            "\r  3%|▎         | 39/1239 [00:28<34:57,  1.75s/it]"
          ]
        },
        {
          "output_type": "stream",
          "name": "stdout",
          "text": [
            "AI Trader soldd:  $ 33.250000  Profit:  $ 1.020000\n"
          ]
        },
        {
          "output_type": "stream",
          "name": "stderr",
          "text": [
            "  3%|▎         | 42/1239 [00:40<57:37,  2.89s/it]"
          ]
        },
        {
          "output_type": "stream",
          "name": "stdout",
          "text": [
            "AI Trader bought:  $ 27.110001\n"
          ]
        },
        {
          "output_type": "stream",
          "name": "stderr",
          "text": [
            "\r  3%|▎         | 43/1239 [00:44<1:00:30,  3.04s/it]"
          ]
        },
        {
          "output_type": "stream",
          "name": "stdout",
          "text": [
            "AI Trader soldd:  $ 27.500000  Profit:  - $ 5.740002\n"
          ]
        },
        {
          "output_type": "stream",
          "name": "stderr",
          "text": [
            "\r  4%|▎         | 44/1239 [00:47<1:03:18,  3.18s/it]"
          ]
        },
        {
          "output_type": "stream",
          "name": "stdout",
          "text": [
            "AI Trader bought:  $ 29.240000\n"
          ]
        },
        {
          "output_type": "stream",
          "name": "stderr",
          "text": [
            "\r  4%|▎         | 45/1239 [00:52<1:10:50,  3.56s/it]"
          ]
        },
        {
          "output_type": "stream",
          "name": "stdout",
          "text": [
            "AI Trader soldd:  $ 28.450001  Profit:  $ 1.340000\n"
          ]
        },
        {
          "output_type": "stream",
          "name": "stderr",
          "text": [
            "  4%|▍         | 47/1239 [00:59<1:11:00,  3.57s/it]"
          ]
        },
        {
          "output_type": "stream",
          "name": "stdout",
          "text": [
            "AI Trader bought:  $ 29.530001\n"
          ]
        },
        {
          "output_type": "stream",
          "name": "stderr",
          "text": [
            "\r  4%|▍         | 48/1239 [01:04<1:18:47,  3.97s/it]"
          ]
        },
        {
          "output_type": "stream",
          "name": "stdout",
          "text": [
            "AI Trader soldd:  $ 30.030001  Profit:  $ 0.790001\n"
          ]
        },
        {
          "output_type": "stream",
          "name": "stderr",
          "text": [
            "\r  4%|▍         | 49/1239 [01:08<1:16:28,  3.86s/it]"
          ]
        },
        {
          "output_type": "stream",
          "name": "stdout",
          "text": [
            "AI Trader soldd:  $ 29.680000  Profit:  $ 0.150000\n"
          ]
        },
        {
          "output_type": "stream",
          "name": "stderr",
          "text": [
            "  4%|▍         | 53/1239 [01:23<1:17:53,  3.94s/it]"
          ]
        },
        {
          "output_type": "stream",
          "name": "stdout",
          "text": [
            "AI Trader bought:  $ 29.600000\n"
          ]
        },
        {
          "output_type": "stream",
          "name": "stderr",
          "text": [
            "  5%|▍         | 56/1239 [01:34<1:11:47,  3.64s/it]"
          ]
        },
        {
          "output_type": "stream",
          "name": "stdout",
          "text": [
            "AI Trader soldd:  $ 28.780001  Profit:  - $ 0.820000\n"
          ]
        },
        {
          "output_type": "stream",
          "name": "stderr",
          "text": [
            "\r  5%|▍         | 57/1239 [01:39<1:22:38,  4.20s/it]"
          ]
        },
        {
          "output_type": "stream",
          "name": "stdout",
          "text": [
            "AI Trader bought:  $ 28.420000\n"
          ]
        },
        {
          "output_type": "stream",
          "name": "stderr",
          "text": [
            "\r  5%|▍         | 58/1239 [01:43<1:18:43,  4.00s/it]"
          ]
        },
        {
          "output_type": "stream",
          "name": "stdout",
          "text": [
            "AI Trader soldd:  $ 28.290001  Profit:  - $ 0.129999\n"
          ]
        },
        {
          "output_type": "stream",
          "name": "stderr",
          "text": [
            "\r  5%|▍         | 59/1239 [01:47<1:16:37,  3.90s/it]"
          ]
        },
        {
          "output_type": "stream",
          "name": "stdout",
          "text": [
            "AI Trader bought:  $ 27.870001\n"
          ]
        },
        {
          "output_type": "stream",
          "name": "stderr",
          "text": [
            "\r  5%|▍         | 60/1239 [01:50<1:14:49,  3.81s/it]"
          ]
        },
        {
          "output_type": "stream",
          "name": "stdout",
          "text": [
            "AI Trader bought:  $ 27.680000\n"
          ]
        },
        {
          "output_type": "stream",
          "name": "stderr",
          "text": [
            "  5%|▌         | 63/1239 [02:03<1:25:45,  4.38s/it]"
          ]
        },
        {
          "output_type": "stream",
          "name": "stdout",
          "text": [
            "AI Trader bought:  $ 28.309999\n"
          ]
        },
        {
          "output_type": "stream",
          "name": "stderr",
          "text": [
            "\r  5%|▌         | 64/1239 [02:07<1:20:29,  4.11s/it]"
          ]
        },
        {
          "output_type": "stream",
          "name": "stdout",
          "text": [
            "AI Trader soldd:  $ 27.700001  Profit:  - $ 0.170000\n"
          ]
        },
        {
          "output_type": "stream",
          "name": "stderr",
          "text": [
            "  5%|▌         | 67/1239 [02:17<1:12:47,  3.73s/it]"
          ]
        },
        {
          "output_type": "stream",
          "name": "stdout",
          "text": [
            "AI Trader bought:  $ 26.910000\n"
          ]
        },
        {
          "output_type": "stream",
          "name": "stderr",
          "text": [
            "\r  5%|▌         | 68/1239 [02:21<1:11:34,  3.67s/it]"
          ]
        },
        {
          "output_type": "stream",
          "name": "stdout",
          "text": [
            "AI Trader soldd:  $ 26.580000  Profit:  - $ 1.100000\n"
          ]
        },
        {
          "output_type": "stream",
          "name": "stderr",
          "text": [
            "  6%|▌         | 70/1239 [02:31<1:26:29,  4.44s/it]"
          ]
        },
        {
          "output_type": "stream",
          "name": "stdout",
          "text": [
            "AI Trader bought:  $ 27.350000\n"
          ]
        },
        {
          "output_type": "stream",
          "name": "stderr",
          "text": [
            "\r  6%|▌         | 71/1239 [02:34<1:21:14,  4.17s/it]"
          ]
        },
        {
          "output_type": "stream",
          "name": "stdout",
          "text": [
            "AI Trader bought:  $ 27.430000\n"
          ]
        },
        {
          "output_type": "stream",
          "name": "stderr",
          "text": [
            "  6%|▌         | 73/1239 [02:41<1:14:20,  3.83s/it]"
          ]
        },
        {
          "output_type": "stream",
          "name": "stdout",
          "text": [
            "AI Trader soldd:  $ 27.559999  Profit:  - $ 0.750000\n"
          ]
        },
        {
          "output_type": "stream",
          "name": "stderr",
          "text": [
            "  6%|▌         | 75/1239 [02:48<1:11:29,  3.69s/it]"
          ]
        },
        {
          "output_type": "stream",
          "name": "stdout",
          "text": [
            "AI Trader soldd:  $ 28.790001  Profit:  $ 1.880001\n"
          ]
        },
        {
          "output_type": "stream",
          "name": "stderr",
          "text": [
            "\r  6%|▌         | 76/1239 [02:52<1:10:40,  3.65s/it]"
          ]
        },
        {
          "output_type": "stream",
          "name": "stdout",
          "text": [
            "AI Trader bought:  $ 28.370001\n"
          ]
        },
        {
          "output_type": "stream",
          "name": "stderr",
          "text": [
            "  6%|▋         | 78/1239 [02:59<1:09:53,  3.61s/it]"
          ]
        },
        {
          "output_type": "stream",
          "name": "stdout",
          "text": [
            "AI Trader soldd:  $ 29.530001  Profit:  $ 2.180000\n"
          ]
        },
        {
          "output_type": "stream",
          "name": "stderr",
          "text": [
            "\r  6%|▋         | 79/1239 [03:06<1:30:27,  4.68s/it]"
          ]
        },
        {
          "output_type": "stream",
          "name": "stdout",
          "text": [
            "AI Trader bought:  $ 29.610001\n"
          ]
        },
        {
          "output_type": "stream",
          "name": "stderr",
          "text": [
            "\r  6%|▋         | 80/1239 [03:10<1:24:34,  4.38s/it]"
          ]
        },
        {
          "output_type": "stream",
          "name": "stdout",
          "text": [
            "AI Trader soldd:  $ 29.180000  Profit:  $ 1.750000\n"
          ]
        },
        {
          "output_type": "stream",
          "name": "stderr",
          "text": [
            "\r  7%|▋         | 81/1239 [03:14<1:19:59,  4.14s/it]"
          ]
        },
        {
          "output_type": "stream",
          "name": "stdout",
          "text": [
            "AI Trader soldd:  $ 29.309999  Profit:  $ 0.939999\n"
          ]
        },
        {
          "output_type": "stream",
          "name": "stderr",
          "text": [
            "\r  7%|▋         | 82/1239 [03:17<1:16:15,  3.95s/it]"
          ]
        },
        {
          "output_type": "stream",
          "name": "stdout",
          "text": [
            "AI Trader bought:  $ 29.250000\n"
          ]
        },
        {
          "output_type": "stream",
          "name": "stderr",
          "text": [
            "\r  7%|▋         | 83/1239 [03:21<1:13:37,  3.82s/it]"
          ]
        },
        {
          "output_type": "stream",
          "name": "stdout",
          "text": [
            "AI Trader soldd:  $ 29.420000  Profit:  - $ 0.190001\n"
          ]
        },
        {
          "output_type": "stream",
          "name": "stderr",
          "text": [
            "\r  7%|▋         | 84/1239 [03:24<1:12:02,  3.74s/it]"
          ]
        },
        {
          "output_type": "stream",
          "name": "stdout",
          "text": [
            "AI Trader soldd:  $ 31.139999  Profit:  $ 1.889999\n"
          ]
        },
        {
          "output_type": "stream",
          "name": "stderr",
          "text": [
            "  7%|▋         | 90/1239 [03:45<1:06:49,  3.49s/it]"
          ]
        },
        {
          "output_type": "stream",
          "name": "stdout",
          "text": [
            "AI Trader bought:  $ 32.009998\n"
          ]
        },
        {
          "output_type": "stream",
          "name": "stderr",
          "text": [
            "\r  7%|▋         | 91/1239 [03:53<1:31:27,  4.78s/it]"
          ]
        },
        {
          "output_type": "stream",
          "name": "stdout",
          "text": [
            "AI Trader soldd:  $ 32.000000  Profit:  - $ 0.009998\n"
          ]
        },
        {
          "output_type": "stream",
          "name": "stderr",
          "text": [
            "  8%|▊         | 98/1239 [04:17<1:08:24,  3.60s/it]"
          ]
        },
        {
          "output_type": "stream",
          "name": "stdout",
          "text": [
            "AI Trader bought:  $ 31.820000\n"
          ]
        },
        {
          "output_type": "stream",
          "name": "stderr",
          "text": [
            "\r  8%|▊         | 99/1239 [04:21<1:07:35,  3.56s/it]"
          ]
        },
        {
          "output_type": "stream",
          "name": "stdout",
          "text": [
            "AI Trader bought:  $ 32.349998\n"
          ]
        },
        {
          "output_type": "stream",
          "name": "stderr",
          "text": [
            "  8%|▊         | 101/1239 [04:28<1:07:04,  3.54s/it]"
          ]
        },
        {
          "output_type": "stream",
          "name": "stdout",
          "text": [
            "AI Trader soldd:  $ 32.709999  Profit:  $ 0.889999\n"
          ]
        },
        {
          "output_type": "stream",
          "name": "stderr",
          "text": [
            "\r  8%|▊         | 102/1239 [04:31<1:07:05,  3.54s/it]"
          ]
        },
        {
          "output_type": "stream",
          "name": "stdout",
          "text": [
            "AI Trader soldd:  $ 32.680000  Profit:  $ 0.330002\n"
          ]
        },
        {
          "output_type": "stream",
          "name": "stderr",
          "text": [
            "  8%|▊         | 105/1239 [04:47<1:37:54,  5.18s/it]"
          ]
        },
        {
          "output_type": "stream",
          "name": "stdout",
          "text": [
            "AI Trader bought:  $ 33.990002\n"
          ]
        },
        {
          "output_type": "stream",
          "name": "stderr",
          "text": [
            "\r  9%|▊         | 106/1239 [04:52<1:36:01,  5.08s/it]"
          ]
        },
        {
          "output_type": "stream",
          "name": "stdout",
          "text": [
            "AI Trader soldd:  $ 33.299999  Profit:  - $ 0.690002\n"
          ]
        },
        {
          "output_type": "stream",
          "name": "stderr",
          "text": [
            "  9%|▉         | 113/1239 [05:19<1:12:33,  3.87s/it]"
          ]
        },
        {
          "output_type": "stream",
          "name": "stdout",
          "text": [
            "AI Trader bought:  $ 33.139999\n"
          ]
        },
        {
          "output_type": "stream",
          "name": "stderr",
          "text": [
            "  9%|▉         | 116/1239 [05:30<1:09:02,  3.69s/it]"
          ]
        },
        {
          "output_type": "stream",
          "name": "stdout",
          "text": [
            "AI Trader soldd:  $ 33.139999  Profit:  $ 0.000000\n"
          ]
        },
        {
          "output_type": "stream",
          "name": "stderr",
          "text": [
            " 10%|▉         | 121/1239 [05:48<1:07:41,  3.63s/it]"
          ]
        },
        {
          "output_type": "stream",
          "name": "stdout",
          "text": [
            "AI Trader bought:  $ 31.340000\n"
          ]
        },
        {
          "output_type": "stream",
          "name": "stderr",
          "text": [
            "\r 10%|▉         | 122/1239 [05:58<1:44:00,  5.59s/it]"
          ]
        },
        {
          "output_type": "stream",
          "name": "stdout",
          "text": [
            "AI Trader soldd:  $ 31.879999  Profit:  $ 0.539999\n"
          ]
        },
        {
          "output_type": "stream",
          "name": "stderr",
          "text": [
            " 10%|█         | 126/1239 [06:12<1:16:11,  4.11s/it]"
          ]
        },
        {
          "output_type": "stream",
          "name": "stdout",
          "text": [
            "AI Trader bought:  $ 32.349998\n"
          ]
        },
        {
          "output_type": "stream",
          "name": "stderr",
          "text": [
            "\r 10%|█         | 127/1239 [06:16<1:13:37,  3.97s/it]"
          ]
        },
        {
          "output_type": "stream",
          "name": "stdout",
          "text": [
            "AI Trader bought:  $ 31.860001\n"
          ]
        },
        {
          "output_type": "stream",
          "name": "stderr",
          "text": [
            "\r 10%|█         | 128/1239 [06:20<1:11:45,  3.88s/it]"
          ]
        },
        {
          "output_type": "stream",
          "name": "stdout",
          "text": [
            "AI Trader soldd:  $ 30.870001  Profit:  - $ 1.479998\n"
          ]
        },
        {
          "output_type": "stream",
          "name": "stderr",
          "text": [
            "\r 10%|█         | 129/1239 [06:23<1:10:47,  3.83s/it]"
          ]
        },
        {
          "output_type": "stream",
          "name": "stdout",
          "text": [
            "AI Trader soldd:  $ 30.200001  Profit:  - $ 1.660000\n"
          ]
        },
        {
          "output_type": "stream",
          "name": "stderr",
          "text": [
            " 11%|█         | 133/1239 [06:38<1:07:08,  3.64s/it]"
          ]
        },
        {
          "output_type": "stream",
          "name": "stdout",
          "text": [
            "AI Trader bought:  $ 31.600000\n"
          ]
        },
        {
          "output_type": "stream",
          "name": "stderr",
          "text": [
            " 11%|█         | 135/1239 [06:45<1:07:25,  3.66s/it]"
          ]
        },
        {
          "output_type": "stream",
          "name": "stdout",
          "text": [
            "AI Trader bought:  $ 32.549999\n"
          ]
        },
        {
          "output_type": "stream",
          "name": "stderr",
          "text": [
            "\r 11%|█         | 136/1239 [06:49<1:07:52,  3.69s/it]"
          ]
        },
        {
          "output_type": "stream",
          "name": "stdout",
          "text": [
            "AI Trader bought:  $ 32.419998\n"
          ]
        },
        {
          "output_type": "stream",
          "name": "stderr",
          "text": [
            "\r 11%|█         | 137/1239 [06:53<1:08:02,  3.70s/it]"
          ]
        },
        {
          "output_type": "stream",
          "name": "stdout",
          "text": [
            "AI Trader soldd:  $ 32.590000  Profit:  $ 0.990000\n"
          ]
        },
        {
          "output_type": "stream",
          "name": "stderr",
          "text": [
            "\r 11%|█         | 138/1239 [06:56<1:08:22,  3.73s/it]"
          ]
        },
        {
          "output_type": "stream",
          "name": "stdout",
          "text": [
            "AI Trader bought:  $ 33.500000\n"
          ]
        },
        {
          "output_type": "stream",
          "name": "stderr",
          "text": [
            "\r 11%|█         | 139/1239 [07:00<1:08:52,  3.76s/it]"
          ]
        },
        {
          "output_type": "stream",
          "name": "stdout",
          "text": [
            "AI Trader bought:  $ 33.750000\n"
          ]
        },
        {
          "output_type": "stream",
          "name": "stderr",
          "text": [
            "\r 11%|█▏        | 140/1239 [07:04<1:08:32,  3.74s/it]"
          ]
        },
        {
          "output_type": "stream",
          "name": "stdout",
          "text": [
            "AI Trader soldd:  $ 34.139999  Profit:  $ 1.590000\n"
          ]
        },
        {
          "output_type": "stream",
          "name": "stderr",
          "text": [
            "\r 11%|█▏        | 141/1239 [07:07<1:07:45,  3.70s/it]"
          ]
        },
        {
          "output_type": "stream",
          "name": "stdout",
          "text": [
            "AI Trader soldd:  $ 33.209999  Profit:  $ 0.790001\n"
          ]
        },
        {
          "output_type": "stream",
          "name": "stderr",
          "text": [
            "\r 11%|█▏        | 142/1239 [07:11<1:07:39,  3.70s/it]"
          ]
        },
        {
          "output_type": "stream",
          "name": "stdout",
          "text": [
            "AI Trader soldd:  $ 33.700001  Profit:  $ 0.200001\n"
          ]
        },
        {
          "output_type": "stream",
          "name": "stderr",
          "text": [
            "\r 12%|█▏        | 143/1239 [07:22<1:49:08,  5.97s/it]"
          ]
        },
        {
          "output_type": "stream",
          "name": "stdout",
          "text": [
            "AI Trader soldd:  $ 32.810001  Profit:  - $ 0.939999\n"
          ]
        },
        {
          "output_type": "stream",
          "name": "stderr",
          "text": [
            " 12%|█▏        | 145/1239 [07:30<1:27:07,  4.78s/it]"
          ]
        },
        {
          "output_type": "stream",
          "name": "stdout",
          "text": [
            "AI Trader bought:  $ 32.549999\n"
          ]
        },
        {
          "output_type": "stream",
          "name": "stderr",
          "text": [
            " 12%|█▏        | 147/1239 [07:37<1:16:13,  4.19s/it]"
          ]
        },
        {
          "output_type": "stream",
          "name": "stdout",
          "text": [
            "AI Trader soldd:  $ 32.340000  Profit:  - $ 0.209999\n"
          ]
        },
        {
          "output_type": "stream",
          "name": "stderr",
          "text": [
            " 12%|█▏        | 149/1239 [07:44<1:11:02,  3.91s/it]"
          ]
        },
        {
          "output_type": "stream",
          "name": "stdout",
          "text": [
            "AI Trader bought:  $ 32.599998\n"
          ]
        },
        {
          "output_type": "stream",
          "name": "stderr",
          "text": [
            "\r 12%|█▏        | 150/1239 [07:48<1:09:37,  3.84s/it]"
          ]
        },
        {
          "output_type": "stream",
          "name": "stdout",
          "text": [
            "AI Trader soldd:  $ 30.780001  Profit:  - $ 1.819998\n"
          ]
        },
        {
          "output_type": "stream",
          "name": "stderr",
          "text": [
            "\r 12%|█▏        | 151/1239 [07:52<1:08:18,  3.77s/it]"
          ]
        },
        {
          "output_type": "stream",
          "name": "stdout",
          "text": [
            "AI Trader bought:  $ 30.350000\n"
          ]
        },
        {
          "output_type": "stream",
          "name": "stderr",
          "text": [
            "\r 12%|█▏        | 152/1239 [07:55<1:07:05,  3.70s/it]"
          ]
        },
        {
          "output_type": "stream",
          "name": "stdout",
          "text": [
            "AI Trader bought:  $ 29.580000\n"
          ]
        },
        {
          "output_type": "stream",
          "name": "stderr",
          "text": [
            "\r 12%|█▏        | 153/1239 [07:59<1:06:15,  3.66s/it]"
          ]
        },
        {
          "output_type": "stream",
          "name": "stdout",
          "text": [
            "AI Trader soldd:  $ 30.040001  Profit:  - $ 0.309999\n"
          ]
        },
        {
          "output_type": "stream",
          "name": "stderr",
          "text": [
            "\r 12%|█▏        | 154/1239 [08:02<1:06:10,  3.66s/it]"
          ]
        },
        {
          "output_type": "stream",
          "name": "stdout",
          "text": [
            "AI Trader soldd:  $ 29.200001  Profit:  - $ 0.379999\n"
          ]
        },
        {
          "output_type": "stream",
          "name": "stderr",
          "text": [
            " 13%|█▎        | 156/1239 [08:09<1:04:50,  3.59s/it]"
          ]
        },
        {
          "output_type": "stream",
          "name": "stdout",
          "text": [
            "AI Trader bought:  $ 29.850000\n"
          ]
        },
        {
          "output_type": "stream",
          "name": "stderr",
          "text": [
            "\r 13%|█▎        | 157/1239 [08:13<1:04:19,  3.57s/it]"
          ]
        },
        {
          "output_type": "stream",
          "name": "stdout",
          "text": [
            "AI Trader soldd:  $ 30.400000  Profit:  $ 0.549999\n"
          ]
        },
        {
          "output_type": "stream",
          "name": "stderr",
          "text": [
            " 13%|█▎        | 165/1239 [08:41<1:03:41,  3.56s/it]"
          ]
        },
        {
          "output_type": "stream",
          "name": "stdout",
          "text": [
            "AI Trader bought:  $ 30.250000\n"
          ]
        },
        {
          "output_type": "stream",
          "name": "stderr",
          "text": [
            "\r 13%|█▎        | 166/1239 [08:45<1:04:11,  3.59s/it]"
          ]
        },
        {
          "output_type": "stream",
          "name": "stdout",
          "text": [
            "AI Trader bought:  $ 32.310001\n"
          ]
        },
        {
          "output_type": "stream",
          "name": "stderr",
          "text": [
            "\r 13%|█▎        | 167/1239 [08:49<1:04:35,  3.62s/it]"
          ]
        },
        {
          "output_type": "stream",
          "name": "stdout",
          "text": [
            "AI Trader soldd:  $ 31.389999  Profit:  $ 1.139999\n"
          ]
        },
        {
          "output_type": "stream",
          "name": "stderr",
          "text": [
            " 14%|█▎        | 169/1239 [09:05<1:39:04,  5.56s/it]"
          ]
        },
        {
          "output_type": "stream",
          "name": "stdout",
          "text": [
            "AI Trader soldd:  $ 28.700001  Profit:  - $ 3.610001\n"
          ]
        },
        {
          "output_type": "stream",
          "name": "stderr",
          "text": [
            "\r 14%|█▎        | 170/1239 [09:09<1:28:38,  4.97s/it]"
          ]
        },
        {
          "output_type": "stream",
          "name": "stdout",
          "text": [
            "AI Trader bought:  $ 27.559999\n"
          ]
        },
        {
          "output_type": "stream",
          "name": "stderr",
          "text": [
            "\r 14%|█▍        | 171/1239 [09:13<1:23:37,  4.70s/it]"
          ]
        },
        {
          "output_type": "stream",
          "name": "stdout",
          "text": [
            "AI Trader soldd:  $ 28.340000  Profit:  $ 0.780001\n"
          ]
        },
        {
          "output_type": "stream",
          "name": "stderr",
          "text": [
            " 14%|█▍        | 173/1239 [09:21<1:18:55,  4.44s/it]"
          ]
        },
        {
          "output_type": "stream",
          "name": "stdout",
          "text": [
            "AI Trader bought:  $ 28.740000\n"
          ]
        },
        {
          "output_type": "stream",
          "name": "stderr",
          "text": [
            "\r 14%|█▍        | 174/1239 [09:25<1:14:02,  4.17s/it]"
          ]
        },
        {
          "output_type": "stream",
          "name": "stdout",
          "text": [
            "AI Trader soldd:  $ 29.290001  Profit:  $ 0.550001\n"
          ]
        },
        {
          "output_type": "stream",
          "name": "stderr",
          "text": [
            "\r 14%|█▍        | 175/1239 [09:28<1:11:01,  4.01s/it]"
          ]
        },
        {
          "output_type": "stream",
          "name": "stdout",
          "text": [
            "AI Trader bought:  $ 29.290001\n"
          ]
        },
        {
          "output_type": "stream",
          "name": "stderr",
          "text": [
            "\r 14%|█▍        | 176/1239 [09:32<1:09:08,  3.90s/it]"
          ]
        },
        {
          "output_type": "stream",
          "name": "stdout",
          "text": [
            "AI Trader soldd:  $ 29.090000  Profit:  - $ 0.200001\n"
          ]
        },
        {
          "output_type": "stream",
          "name": "stderr",
          "text": [
            " 14%|█▍        | 179/1239 [09:42<1:03:51,  3.61s/it]"
          ]
        },
        {
          "output_type": "stream",
          "name": "stdout",
          "text": [
            "AI Trader bought:  $ 29.100000\n"
          ]
        },
        {
          "output_type": "stream",
          "name": "stderr",
          "text": [
            "\r 15%|█▍        | 180/1239 [09:46<1:03:08,  3.58s/it]"
          ]
        },
        {
          "output_type": "stream",
          "name": "stdout",
          "text": [
            "AI Trader bought:  $ 29.209999\n"
          ]
        },
        {
          "output_type": "stream",
          "name": "stderr",
          "text": [
            "\r 15%|█▍        | 181/1239 [09:50<1:03:03,  3.58s/it]"
          ]
        },
        {
          "output_type": "stream",
          "name": "stdout",
          "text": [
            "AI Trader soldd:  $ 29.820000  Profit:  $ 0.719999\n"
          ]
        },
        {
          "output_type": "stream",
          "name": "stderr",
          "text": [
            "\r 15%|█▍        | 182/1239 [09:53<1:02:57,  3.57s/it]"
          ]
        },
        {
          "output_type": "stream",
          "name": "stdout",
          "text": [
            "AI Trader soldd:  $ 29.719999  Profit:  $ 0.510000\n"
          ]
        },
        {
          "output_type": "stream",
          "name": "stderr",
          "text": [
            " 15%|█▌        | 190/1239 [10:22<1:02:15,  3.56s/it]"
          ]
        },
        {
          "output_type": "stream",
          "name": "stdout",
          "text": [
            "AI Trader bought:  $ 31.250000\n"
          ]
        },
        {
          "output_type": "stream",
          "name": "stderr",
          "text": [
            " 16%|█▌        | 193/1239 [10:32<1:01:39,  3.54s/it]"
          ]
        },
        {
          "output_type": "stream",
          "name": "stdout",
          "text": [
            "AI Trader bought:  $ 31.000000\n"
          ]
        },
        {
          "output_type": "stream",
          "name": "stderr",
          "text": [
            " 16%|█▌        | 196/1239 [10:43<1:02:02,  3.57s/it]"
          ]
        },
        {
          "output_type": "stream",
          "name": "stdout",
          "text": [
            "AI Trader bought:  $ 30.469999\n"
          ]
        },
        {
          "output_type": "stream",
          "name": "stderr",
          "text": [
            " 16%|█▌        | 198/1239 [10:50<1:02:54,  3.63s/it]"
          ]
        },
        {
          "output_type": "stream",
          "name": "stdout",
          "text": [
            "AI Trader soldd:  $ 30.809999  Profit:  - $ 0.440001\n"
          ]
        },
        {
          "output_type": "stream",
          "name": "stderr",
          "text": [
            "\r 16%|█▌        | 199/1239 [10:54<1:02:55,  3.63s/it]"
          ]
        },
        {
          "output_type": "stream",
          "name": "stdout",
          "text": [
            "AI Trader soldd:  $ 31.660000  Profit:  $ 0.660000\n"
          ]
        },
        {
          "output_type": "stream",
          "name": "stderr",
          "text": [
            "\r 16%|█▌        | 200/1239 [11:09<2:04:21,  7.18s/it]"
          ]
        },
        {
          "output_type": "stream",
          "name": "stdout",
          "text": [
            "AI Trader bought:  $ 31.870001\n"
          ]
        },
        {
          "output_type": "stream",
          "name": "stderr",
          "text": [
            " 16%|█▋        | 202/1239 [11:17<1:33:23,  5.40s/it]"
          ]
        },
        {
          "output_type": "stream",
          "name": "stdout",
          "text": [
            "AI Trader soldd:  $ 31.900000  Profit:  $ 1.430000\n"
          ]
        },
        {
          "output_type": "stream",
          "name": "stderr",
          "text": [
            "\r 16%|█▋        | 203/1239 [11:20<1:24:09,  4.87s/it]"
          ]
        },
        {
          "output_type": "stream",
          "name": "stdout",
          "text": [
            "AI Trader soldd:  $ 31.700001  Profit:  - $ 0.170000\n"
          ]
        },
        {
          "output_type": "stream",
          "name": "stderr",
          "text": [
            " 18%|█▊        | 219/1239 [12:18<1:00:58,  3.59s/it]"
          ]
        },
        {
          "output_type": "stream",
          "name": "stdout",
          "text": [
            "AI Trader bought:  $ 34.090000\n"
          ]
        },
        {
          "output_type": "stream",
          "name": "stderr",
          "text": [
            "\r 18%|█▊        | 220/1239 [12:21<1:00:47,  3.58s/it]"
          ]
        },
        {
          "output_type": "stream",
          "name": "stdout",
          "text": [
            "AI Trader soldd:  $ 33.549999  Profit:  - $ 0.540001\n"
          ]
        },
        {
          "output_type": "stream",
          "name": "stderr",
          "text": [
            " 19%|█▊        | 231/1239 [13:01<1:01:40,  3.67s/it]"
          ]
        },
        {
          "output_type": "stream",
          "name": "stdout",
          "text": [
            "AI Trader bought:  $ 30.120001\n"
          ]
        },
        {
          "output_type": "stream",
          "name": "stderr",
          "text": [
            "\r 19%|█▊        | 232/1239 [13:05<1:01:40,  3.67s/it]"
          ]
        },
        {
          "output_type": "stream",
          "name": "stdout",
          "text": [
            "AI Trader bought:  $ 30.500000\n"
          ]
        },
        {
          "output_type": "stream",
          "name": "stderr",
          "text": [
            "\r 19%|█▉        | 233/1239 [13:08<1:01:03,  3.64s/it]"
          ]
        },
        {
          "output_type": "stream",
          "name": "stdout",
          "text": [
            "AI Trader bought:  $ 30.129999\n"
          ]
        },
        {
          "output_type": "stream",
          "name": "stderr",
          "text": [
            "\r 19%|█▉        | 234/1239 [13:12<1:00:59,  3.64s/it]"
          ]
        },
        {
          "output_type": "stream",
          "name": "stdout",
          "text": [
            "AI Trader soldd:  $ 30.639999  Profit:  $ 0.519999\n"
          ]
        },
        {
          "output_type": "stream",
          "name": "stderr",
          "text": [
            " 19%|█▉        | 236/1239 [13:19<59:52,  3.58s/it]  "
          ]
        },
        {
          "output_type": "stream",
          "name": "stdout",
          "text": [
            "AI Trader bought:  $ 31.049999\n"
          ]
        },
        {
          "output_type": "stream",
          "name": "stderr",
          "text": [
            "\r 19%|█▉        | 237/1239 [13:23<59:37,  3.57s/it]"
          ]
        },
        {
          "output_type": "stream",
          "name": "stdout",
          "text": [
            "AI Trader soldd:  $ 30.969999  Profit:  $ 0.469999\n"
          ]
        },
        {
          "output_type": "stream",
          "name": "stderr",
          "text": [
            "\r 19%|█▉        | 238/1239 [13:26<59:36,  3.57s/it]"
          ]
        },
        {
          "output_type": "stream",
          "name": "stdout",
          "text": [
            "AI Trader soldd:  $ 30.940001  Profit:  $ 0.810001\n"
          ]
        },
        {
          "output_type": "stream",
          "name": "stderr",
          "text": [
            "\r 19%|█▉        | 239/1239 [13:44<2:12:51,  7.97s/it]"
          ]
        },
        {
          "output_type": "stream",
          "name": "stdout",
          "text": [
            "AI Trader soldd:  $ 31.000000  Profit:  - $ 0.049999\n"
          ]
        },
        {
          "output_type": "stream",
          "name": "stderr",
          "text": [
            "\r 19%|█▉        | 240/1239 [13:48<1:51:22,  6.69s/it]"
          ]
        },
        {
          "output_type": "stream",
          "name": "stdout",
          "text": [
            "AI Trader bought:  $ 30.959999\n"
          ]
        },
        {
          "output_type": "stream",
          "name": "stderr",
          "text": [
            "\r 19%|█▉        | 241/1239 [13:52<1:36:21,  5.79s/it]"
          ]
        },
        {
          "output_type": "stream",
          "name": "stdout",
          "text": [
            "AI Trader soldd:  $ 31.600000  Profit:  $ 0.640001\n"
          ]
        },
        {
          "output_type": "stream",
          "name": "stderr",
          "text": [
            "\r 20%|█▉        | 242/1239 [13:56<1:26:30,  5.21s/it]"
          ]
        },
        {
          "output_type": "stream",
          "name": "stdout",
          "text": [
            "AI Trader bought:  $ 32.000000\n"
          ]
        },
        {
          "output_type": "stream",
          "name": "stderr",
          "text": [
            "\r 20%|█▉        | 243/1239 [13:59<1:19:01,  4.76s/it]"
          ]
        },
        {
          "output_type": "stream",
          "name": "stdout",
          "text": [
            "AI Trader soldd:  $ 32.150002  Profit:  $ 0.150002\n"
          ]
        },
        {
          "output_type": "stream",
          "name": "stderr",
          "text": [
            " 20%|██        | 253/1239 [14:35<59:51,  3.64s/it]  "
          ]
        },
        {
          "output_type": "stream",
          "name": "stdout",
          "text": [
            "AI Trader bought:  $ 32.959999\n"
          ]
        },
        {
          "output_type": "stream",
          "name": "stderr",
          "text": [
            "\r 21%|██        | 254/1239 [14:39<59:44,  3.64s/it]"
          ]
        },
        {
          "output_type": "stream",
          "name": "stdout",
          "text": [
            "AI Trader soldd:  $ 33.490002  Profit:  $ 0.530003\n"
          ]
        },
        {
          "output_type": "stream",
          "name": "stderr",
          "text": [
            "\r 21%|██        | 255/1239 [14:42<59:56,  3.66s/it]"
          ]
        },
        {
          "output_type": "stream",
          "name": "stdout",
          "text": [
            "AI Trader bought:  $ 33.290001\n"
          ]
        },
        {
          "output_type": "stream",
          "name": "stderr",
          "text": [
            "\r 21%|██        | 256/1239 [14:46<1:00:28,  3.69s/it]"
          ]
        },
        {
          "output_type": "stream",
          "name": "stdout",
          "text": [
            "AI Trader soldd:  $ 32.549999  Profit:  - $ 0.740002\n"
          ]
        },
        {
          "output_type": "stream",
          "name": "stderr",
          "text": [
            " 21%|██        | 258/1239 [14:54<1:01:20,  3.75s/it]"
          ]
        },
        {
          "output_type": "stream",
          "name": "stdout",
          "text": [
            "AI Trader bought:  $ 33.509998\n"
          ]
        },
        {
          "output_type": "stream",
          "name": "stderr",
          "text": [
            "\r 21%|██        | 259/1239 [14:58<1:01:01,  3.74s/it]"
          ]
        },
        {
          "output_type": "stream",
          "name": "stdout",
          "text": [
            "AI Trader soldd:  $ 34.230000  Profit:  $ 0.720001\n"
          ]
        }
      ]
    }
  ]
}